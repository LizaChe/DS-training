{
 "cells": [
  {
   "cell_type": "code",
   "execution_count": 5,
   "metadata": {},
   "outputs": [],
   "source": [
    "import pandas as pd\n",
    "import numpy as np\n",
    "import matplotlib.pyplot as plt\n",
    "%matplotlib inline\n",
    "from sklearn.preprocessing import LabelEncoder\n",
    "import re\n",
    "from sklearn.feature_extraction.text import CountVectorizer, TfidfVectorizer\n",
    "from sklearn.model_selection import cross_val_score\n",
    "from sklearn.metrics import accuracy_score, make_scorer\n",
    "from nltk.corpus import stopwords\n",
    "from nltk.tokenize import word_tokenize, sent_tokenize\n",
    "from collections import Counter\n",
    "import nltk"
   ]
  },
  {
   "cell_type": "code",
   "execution_count": 2,
   "metadata": {},
   "outputs": [],
   "source": [
    "train = pd.read_csv(r'C:\\Users\\lizac\\Downloads\\h-1b-visa\\h1b_kaggle.csv')\n",
    "#test = pd.read_csv(r'C:\\Users\\lizac\\Downloads\\h-1b-visa\\h1b_kaggle.csv')"
   ]
  },
  {
   "cell_type": "code",
   "execution_count": 3,
   "metadata": {},
   "outputs": [],
   "source": [
    "df=pd.DataFrame(train)\n",
    "#df=df.head(10000)"
   ]
  },
  {
   "cell_type": "code",
   "execution_count": null,
   "metadata": {},
   "outputs": [],
   "source": [
    "train.groupby('CASE_STATUS').size()"
   ]
  },
  {
   "cell_type": "code",
   "execution_count": 724,
   "metadata": {},
   "outputs": [],
   "source": [
    "df = df.drop(df[(df.CASE_STATUS =='WITHDRAWN') | (df.CASE_STATUS=='PENDING QUALITY AND COMPLIANCE REVIEW - UNASSIGNED' )|\n",
    "                (df.CASE_STATUS =='REJECTED') | (df.CASE_STATUS =='INVALIDATED')| (df.CASE_STATUS.isnull()) |(df.JOB_TITLE.isnull())\n",
    "                | (df.FULL_TIME_POSITION.isnull())].index)\n",
    "dict_map = {'CERTIFIED':1 , 'CERTIFIED-WITHDRAWN': 1, 'DENIED': 0}\n",
    "df['CASE_STATUS'] = df['CASE_STATUS'].map(dict_map)\n",
    "df['CASE_STATUS'] = df['CASE_STATUS'].astype(int)\n",
    "dict_map = {'N':0 , 'Y': 1}\n",
    "df['FULL_TIME_POSITION'] = df['FULL_TIME_POSITION'].map(dict_map)\n",
    "df['FULL_TIME_POSITION'] = df['FULL_TIME_POSITION'].astype(int)"
   ]
  },
  {
   "cell_type": "code",
   "execution_count": 4,
   "metadata": {},
   "outputs": [
    {
     "data": {
      "text/plain": [
       "CASE_STATUS\n",
       "CERTIFIED                                             2615623\n",
       "CERTIFIED-WITHDRAWN                                    202659\n",
       "DENIED                                                  94346\n",
       "INVALIDATED                                                 1\n",
       "PENDING QUALITY AND COMPLIANCE REVIEW - UNASSIGNED         15\n",
       "REJECTED                                                    2\n",
       "WITHDRAWN                                               89799\n",
       "dtype: int64"
      ]
     },
     "execution_count": 4,
     "metadata": {},
     "output_type": "execute_result"
    }
   ],
   "source": [
    "train.groupby('CASE_STATUS').size()"
   ]
  },
  {
   "cell_type": "code",
   "execution_count": null,
   "metadata": {},
   "outputs": [],
   "source": []
  },
  {
   "cell_type": "code",
   "execution_count": 673,
   "metadata": {},
   "outputs": [],
   "source": [
    "def a(text):\n",
    "    if 'PRESIDEN' in text:\n",
    "        text='PRESIDENT'\n",
    "    return text"
   ]
  },
  {
   "cell_type": "code",
   "execution_count": 674,
   "metadata": {},
   "outputs": [],
   "source": [
    "df['JOB_TITLE']=df['JOB_TITLE'].map(lambda x: a(x))"
   ]
  },
  {
   "cell_type": "code",
   "execution_count": 675,
   "metadata": {},
   "outputs": [],
   "source": [
    "stops = set(stopwords.words(\"english\"))\n",
    "def cleanData(text,remove_stops = False, stemming = False):\n",
    "    txt = str(text)\n",
    "    txt = re.sub(r'[^A-Za-z0-9\\s]',r'',txt)\n",
    "    txt = re.sub(r'\\n',r' ',txt)\n",
    "    \n",
    "    \n",
    "        \n",
    "    if remove_stops:\n",
    "        txt = \" \".join([w for w in txt.split() if w not in stops])\n",
    "    return txt"
   ]
  },
  {
   "cell_type": "code",
   "execution_count": 676,
   "metadata": {},
   "outputs": [],
   "source": [
    "\n",
    "df['JOB_TITLE']=df['JOB_TITLE'].map(lambda x: cleanData(x, remove_stops=True, stemming=True))"
   ]
  },
  {
   "cell_type": "code",
   "execution_count": 677,
   "metadata": {},
   "outputs": [],
   "source": [
    "df['EMPLOYER_NAME']=df['EMPLOYER_NAME'].map(lambda x: cleanData(x, remove_stops=True, stemming=True))"
   ]
  },
  {
   "cell_type": "code",
   "execution_count": 678,
   "metadata": {},
   "outputs": [],
   "source": [
    "text=pd.DataFrame(df['JOB_TITLE'])"
   ]
  },
  {
   "cell_type": "code",
   "execution_count": 679,
   "metadata": {},
   "outputs": [],
   "source": [
    "text=pd.DataFrame(text)"
   ]
  },
  {
   "cell_type": "code",
   "execution_count": 680,
   "metadata": {},
   "outputs": [],
   "source": [
    "text=text.to_string(index=False)"
   ]
  },
  {
   "cell_type": "code",
   "execution_count": 681,
   "metadata": {},
   "outputs": [],
   "source": [
    "splitter = re.compile('[^a-zA-Z0-9_\\\\+\\\\-/]')\n",
    "words = []\n",
    "for single_word in splitter.split(text):\n",
    "        current_word = single_word.strip().lower()\n",
    "        if len(current_word) > 3 and current_word != '':\n",
    "            words.append(current_word)\n"
   ]
  },
  {
   "cell_type": "code",
   "execution_count": 682,
   "metadata": {},
   "outputs": [],
   "source": [
    "nouns = []\n",
    "for word,pos in nltk.pos_tag(nltk.word_tokenize(str(text))):\n",
    "         if (pos == 'NN' or pos == 'NNP' or pos == 'NNS' or pos == 'NNPS'):\n",
    "            nouns.append(word)"
   ]
  },
  {
   "cell_type": "code",
   "execution_count": 683,
   "metadata": {},
   "outputs": [],
   "source": [
    "professions=[]\n",
    "for word in nouns:\n",
    "         if word.endswith(('ST', 'ER','OR','LOW','DENT','CEO','HEAD','EXECUTIVE')) :\n",
    "            professions.append(word)\n",
    "     "
   ]
  },
  {
   "cell_type": "code",
   "execution_count": 684,
   "metadata": {},
   "outputs": [],
   "source": [
    "common = Counter(professions).most_common()"
   ]
  },
  {
   "cell_type": "code",
   "execution_count": 685,
   "metadata": {},
   "outputs": [],
   "source": [
    "common=pd.DataFrame(common)"
   ]
  },
  {
   "cell_type": "code",
   "execution_count": 686,
   "metadata": {},
   "outputs": [],
   "source": [
    "common=common[0].values"
   ]
  },
  {
   "cell_type": "code",
   "execution_count": 687,
   "metadata": {},
   "outputs": [],
   "source": [
    "common=common.tolist()"
   ]
  },
  {
   "cell_type": "code",
   "execution_count": 688,
   "metadata": {},
   "outputs": [],
   "source": [
    "#common=common.remove('JUNIOR')\n",
    "#common=common.remove('SENIOR')"
   ]
  },
  {
   "cell_type": "code",
   "execution_count": 689,
   "metadata": {},
   "outputs": [],
   "source": [
    "\n",
    "#train.JOB_TITLE = train.JOB_TITLE.astype(str)"
   ]
  },
  {
   "cell_type": "code",
   "execution_count": 690,
   "metadata": {},
   "outputs": [],
   "source": [
    "#df['tokenized_text'] = df.JOB_TITLE.apply(lambda row: word_tokenize(row))"
   ]
  },
  {
   "cell_type": "code",
   "execution_count": 691,
   "metadata": {},
   "outputs": [],
   "source": [
    "#text=df['JOB_TITLE']\n",
    "#text=text.head(200)\n",
    "#text=pd.DataFrame(text)\n",
    "#text = text.astype(str)"
   ]
  },
  {
   "cell_type": "code",
   "execution_count": 692,
   "metadata": {},
   "outputs": [],
   "source": [
    "df['tokenized_text'] = df['JOB_TITLE'].apply(lambda row: word_tokenize(row))"
   ]
  },
  {
   "cell_type": "code",
   "execution_count": 693,
   "metadata": {},
   "outputs": [],
   "source": [
    "def new_prof(text):\n",
    "    new1=[]\n",
    "    for index in range(0,len(text)):\n",
    "        if text[index] in common:\n",
    "            new1=text[index]\n",
    "    return new1"
   ]
  },
  {
   "cell_type": "code",
   "execution_count": 694,
   "metadata": {},
   "outputs": [],
   "source": [
    "df['new_title'] = df.tokenized_text.apply(lambda row: new_prof(row))"
   ]
  },
  {
   "cell_type": "code",
   "execution_count": 695,
   "metadata": {},
   "outputs": [],
   "source": [
    "df['JOB_TITLE']=df['new_title']"
   ]
  },
  {
   "cell_type": "code",
   "execution_count": null,
   "metadata": {},
   "outputs": [],
   "source": []
  },
  {
   "cell_type": "code",
   "execution_count": 696,
   "metadata": {},
   "outputs": [],
   "source": [
    "#df['new_title'][290]==[]"
   ]
  },
  {
   "cell_type": "code",
   "execution_count": 697,
   "metadata": {},
   "outputs": [],
   "source": [
    "df['tokenized_worksite'] = df['WORKSITE'].apply(lambda row: row.split(','))"
   ]
  },
  {
   "cell_type": "code",
   "execution_count": 698,
   "metadata": {},
   "outputs": [],
   "source": [
    "df['WORKSITE'] = df['tokenized_worksite'].apply(lambda row: row[1])"
   ]
  },
  {
   "cell_type": "code",
   "execution_count": 699,
   "metadata": {},
   "outputs": [],
   "source": [
    "list_drop=['YEAR','lon','lat','tokenized_text','new_title','tokenized_worksite']"
   ]
  },
  {
   "cell_type": "code",
   "execution_count": 700,
   "metadata": {},
   "outputs": [],
   "source": [
    "df.drop(list_drop, axis=1, inplace=True)"
   ]
  },
  {
   "cell_type": "code",
   "execution_count": 701,
   "metadata": {},
   "outputs": [],
   "source": [
    "job_title= df.JOB_TITLE.astype(str).str.strip('[]').str.get_dummies()#\n",
    "job_title.columns = job_title.columns.str.strip(\"\")"
   ]
  },
  {
   "cell_type": "code",
   "execution_count": 702,
   "metadata": {},
   "outputs": [],
   "source": [
    "soc_name= df.SOC_NAME.astype(str).str.strip('[]').str.get_dummies()\n",
    "soc_name.columns = soc_name.columns.str.strip(\"\")"
   ]
  },
  {
   "cell_type": "code",
   "execution_count": 703,
   "metadata": {},
   "outputs": [],
   "source": [
    "empl_name= df.EMPLOYER_NAME.astype(str).str.strip('[]').str.get_dummies()\n",
    "empl_name.columns = empl_name.columns.str.strip(\"\")"
   ]
  },
  {
   "cell_type": "code",
   "execution_count": 704,
   "metadata": {},
   "outputs": [],
   "source": [
    "\n",
    "worksite= df.WORKSITE.astype(str).str.strip('[]').str.get_dummies()\n",
    "worksite.columns = worksite.columns.str.strip(\"\")"
   ]
  },
  {
   "cell_type": "code",
   "execution_count": 705,
   "metadata": {},
   "outputs": [],
   "source": [
    "df=pd.concat([df,job_title,soc_name,empl_name,worksite],axis=1)"
   ]
  },
  {
   "cell_type": "code",
   "execution_count": 706,
   "metadata": {},
   "outputs": [],
   "source": [
    "list_drop=['JOB_TITLE','SOC_NAME','EMPLOYER_NAME','WORKSITE','Unnamed: 0','FULL_TIME_POSITION','PREVAILING_WAGE']"
   ]
  },
  {
   "cell_type": "code",
   "execution_count": 707,
   "metadata": {},
   "outputs": [],
   "source": [
    "df.drop(list_drop, axis=1, inplace=True)"
   ]
  },
  {
   "cell_type": "code",
   "execution_count": 708,
   "metadata": {},
   "outputs": [],
   "source": [
    "y=df['CASE_STATUS']\n"
   ]
  },
  {
   "cell_type": "code",
   "execution_count": 709,
   "metadata": {},
   "outputs": [],
   "source": [
    "x=df.iloc[0:,1:]"
   ]
  },
  {
   "cell_type": "code",
   "execution_count": 710,
   "metadata": {},
   "outputs": [],
   "source": [
    "from sklearn.model_selection import train_test_split"
   ]
  },
  {
   "cell_type": "code",
   "execution_count": 711,
   "metadata": {},
   "outputs": [
    {
     "name": "stdout",
     "output_type": "stream",
     "text": [
      "(7185, 5677) (2395, 5677)\n"
     ]
    }
   ],
   "source": [
    "Xtrain, Xtest, ytrain, ytest = train_test_split(x, y, random_state=2)\n",
    "print(Xtrain.shape, Xtest.shape)"
   ]
  },
  {
   "cell_type": "code",
   "execution_count": 712,
   "metadata": {},
   "outputs": [],
   "source": [
    "from sklearn.linear_model import LogisticRegression\n",
    "from sklearn.metrics import accuracy_score, confusion_matrix\n",
    "from sklearn.metrics import roc_auc_score, classification_report"
   ]
  },
  {
   "cell_type": "code",
   "execution_count": 713,
   "metadata": {},
   "outputs": [],
   "source": [
    "model_l = LogisticRegression(random_state = 1)"
   ]
  },
  {
   "cell_type": "code",
   "execution_count": 714,
   "metadata": {},
   "outputs": [
    {
     "data": {
      "text/plain": [
       "LogisticRegression(C=1.0, class_weight=None, dual=False, fit_intercept=True,\n",
       "          intercept_scaling=1, max_iter=100, multi_class='ovr', n_jobs=1,\n",
       "          penalty='l2', random_state=1, solver='liblinear', tol=0.0001,\n",
       "          verbose=0, warm_start=False)"
      ]
     },
     "execution_count": 714,
     "metadata": {},
     "output_type": "execute_result"
    }
   ],
   "source": [
    "model_l.fit(Xtrain, ytrain)"
   ]
  },
  {
   "cell_type": "code",
   "execution_count": 715,
   "metadata": {},
   "outputs": [
    {
     "data": {
      "text/plain": [
       "0.9586638830897704"
      ]
     },
     "execution_count": 715,
     "metadata": {},
     "output_type": "execute_result"
    }
   ],
   "source": [
    "model_l.score(Xtest,ytest)"
   ]
  },
  {
   "cell_type": "code",
   "execution_count": 716,
   "metadata": {},
   "outputs": [
    {
     "data": {
      "text/plain": [
       "0.9585247042449547"
      ]
     },
     "execution_count": 716,
     "metadata": {},
     "output_type": "execute_result"
    }
   ],
   "source": [
    "model_l.score(Xtrain,ytrain)"
   ]
  },
  {
   "cell_type": "code",
   "execution_count": null,
   "metadata": {},
   "outputs": [],
   "source": []
  }
 ],
 "metadata": {
  "kernelspec": {
   "display_name": "Python 3",
   "language": "python",
   "name": "python3"
  },
  "language_info": {
   "codemirror_mode": {
    "name": "ipython",
    "version": 3
   },
   "file_extension": ".py",
   "mimetype": "text/x-python",
   "name": "python",
   "nbconvert_exporter": "python",
   "pygments_lexer": "ipython3",
   "version": "3.6.4"
  }
 },
 "nbformat": 4,
 "nbformat_minor": 2
}

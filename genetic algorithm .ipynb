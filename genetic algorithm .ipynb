{
 "cells": [
  {
   "cell_type": "code",
   "execution_count": 2432,
   "metadata": {},
   "outputs": [],
   "source": [
    "import pandas as pd\n",
    "import numpy as np\n",
    "#import matplotlib.pypl\n",
    "from random import *\n",
    "from numpy.random import seed\n",
    "from numpy.random import randint\n",
    "import random\n",
    "import itertools\n",
    "from itertools import permutations\n",
    "from random import seed\n",
    "from random import choice\n",
    "from random import seed\n",
    "from random import choice\n",
    "from numpy.random import rand\n"
   ]
  },
  {
   "cell_type": "code",
   "execution_count": 2433,
   "metadata": {},
   "outputs": [],
   "source": [
    "low = 0 ;high= 100"
   ]
  },
  {
   "cell_type": "code",
   "execution_count": 2443,
   "metadata": {},
   "outputs": [],
   "source": [
    "population_size=10000 #population size\n",
    "num=population_size\n",
    "cities=40 #number of cities\n",
    "mutation=15 #% of mutation"
   ]
  },
  {
   "cell_type": "code",
   "execution_count": 2444,
   "metadata": {},
   "outputs": [],
   "source": [
    "#generating coordinates\n",
    "x = randint(0, 100, cities)\n",
    "y = randint(0, 100, cities)\n",
    "coo = pd.DataFrame({'x':x, 'y':y})"
   ]
  },
  {
   "cell_type": "code",
   "execution_count": null,
   "metadata": {},
   "outputs": [],
   "source": [
    "\n"
   ]
  },
  {
   "cell_type": "code",
   "execution_count": 2445,
   "metadata": {},
   "outputs": [],
   "source": [
    "#fitness fuction\n",
    "def calcDist(a):\n",
    "    b=a\n",
    "    for i in range(cities-1):\n",
    "        b.loc[i,'dist']=np.sqrt( np.power(b.loc[i+1, 'x'] - b.loc[i, 'x'] ,2) +   np.power(coo.loc[i+1, 'y'] - b.loc[i, 'y'] ,2))\n",
    "    b.loc[i+1,'dist']=np.sqrt( np.power(b.loc[0, 'x'] -   b.loc[i+1,'x'] ,2) +   np.power(b.loc[0, 'y'] -   b.loc[i+1,'y'] ,2))\n",
    "    totalDist=b['dist'].sum()\n",
    "    return totalDist"
   ]
  },
  {
   "cell_type": "code",
   "execution_count": 2446,
   "metadata": {},
   "outputs": [],
   "source": [
    "#generate populations\n",
    "sampleList=[]\n",
    "distList=[]\n",
    "sample=[]\n",
    "for i in range(num):\n",
    "    nums = [x for x in range(cities)]\n",
    "    random.shuffle(nums)\n",
    "    numsdf=pd.DataFrame(nums)\n",
    "    coo_temp=coo\n",
    "    coo_temp=pd.concat([numsdf,coo_temp],axis=1).set_index([0]).sort_index()\n",
    "    sampleList.append(nums)\n",
    "    dist=calcDist(coo_temp)\n",
    "    distList.append(dist)\n",
    "    \n",
    "#combine and sort\n",
    "s=pd.DataFrame(sampleList)\n",
    "d=pd.DataFrame(distList,columns=['dist'])\n",
    "popul=pd.concat([s,d],axis=1)   \n",
    "\n",
    "    "
   ]
  },
  {
   "cell_type": "code",
   "execution_count": 2447,
   "metadata": {},
   "outputs": [],
   "source": [
    "#generate a 'child' from existing arrays\n",
    "#adding child to population and delete arrays with bad fitness\n",
    "def addChildren(popul):\n",
    "    \n",
    "    ind=[]\n",
    "    val=[]\n",
    "    nval=[]\n",
    "    child1=[]\n",
    "    for x in range(len(popul)-1):\n",
    "        if (x%2==0 or x==0):                \n",
    "                                             \n",
    "            a=popul.loc[x][:-1]\n",
    "            b=popul.loc[x+1][:-1]\n",
    "            for i in range(cities):\n",
    "                if a[i]==b[i]:                \n",
    "                                                          \n",
    "                    val.append(a[i])\n",
    "                    ind.append(i)\n",
    "            for ii in range(cities):          \n",
    "                                              \n",
    "                if ii not in val:\n",
    "                    nval.append(ii)\n",
    "                    shuffle(nval)\n",
    "\n",
    "            for iii in range (len(val)):\n",
    "                nval.insert(ind[iii],val[iii])\n",
    "\n",
    "            ran_number = int(round(random.uniform(low, high)))       \n",
    "                                                                  \n",
    "            bol=ran_number in range(mutation)\n",
    "            if bol==True:\n",
    "                rs= int(round(random.uniform(0, cities-1)))\n",
    "                rf=int(round(random.uniform(0, cities-1)))\n",
    "                temp=nval[rs]\n",
    "                del nval[rs]\n",
    "                nval.insert(rf,temp)\n",
    "            child1.append(nval)\n",
    "            \n",
    "            \n",
    "        elif  (x%2!=0 or x!=0):\n",
    "            continue\n",
    "        ind=[]\n",
    "        val=[]\n",
    "        nval=[]\n",
    "    sampleList_child=[]\n",
    "    distList_child=[]\n",
    "    for i in range(len(child1)):                                    \n",
    "        df=pd.DataFrame(child1[i])\n",
    "        coo_child=coo\n",
    "        coo_child=pd.concat([df,coo_child],axis=1).set_index([0]).sort_index()\n",
    "        sampleList_child.append(child1[i])\n",
    "        dist_child=calcDist(coo_child)\n",
    "        distList_child.append(dist_child)\n",
    "\n",
    "\n",
    "    s=pd.DataFrame(sampleList_child)\n",
    "    d=pd.DataFrame(distList_child,columns=['dist'])\n",
    "    popul_child=pd.concat([s,d],axis=1)  \n",
    "    \n",
    "    count_to_delete=int(round(len(popul_child.axes[0])*1.5,0))                 \n",
    "    popul=popul.sort_values('dist').reset_index(drop=True)\n",
    "    popul=popul.drop(popul.tail(count_to_delete).index)\n",
    "    popul=pd.concat([popul,popul_child])\n",
    "    popul=popul.reset_index(drop=True)\n",
    "\n",
    "\n",
    " \n",
    "    return popul\n",
    "\n",
    "  "
   ]
  },
  {
   "cell_type": "code",
   "execution_count": 2448,
   "metadata": {},
   "outputs": [],
   "source": [
    "#add pupulation number\n",
    "final=popul\n",
    "final['iter']=0\n",
    "a=0\n",
    "popul['iter']=a"
   ]
  },
  {
   "cell_type": "code",
   "execution_count": 2449,
   "metadata": {},
   "outputs": [],
   "source": [
    "\n",
    "\n",
    "while len(popul.axes[0])>2:\n",
    "    a=a+1\n",
    "    popul=addChildren(popul)\n",
    "    popul['iter']=a\n",
    "    final=pd.concat([final,popul],axis=0)\n",
    "    \n",
    "    "
   ]
  },
  {
   "cell_type": "code",
   "execution_count": 2450,
   "metadata": {},
   "outputs": [
    {
     "data": {
      "text/html": [
       "<div>\n",
       "<style scoped>\n",
       "    .dataframe tbody tr th:only-of-type {\n",
       "        vertical-align: middle;\n",
       "    }\n",
       "\n",
       "    .dataframe tbody tr th {\n",
       "        vertical-align: top;\n",
       "    }\n",
       "\n",
       "    .dataframe thead th {\n",
       "        text-align: right;\n",
       "    }\n",
       "</style>\n",
       "<table border=\"1\" class=\"dataframe\">\n",
       "  <thead>\n",
       "    <tr style=\"text-align: right;\">\n",
       "      <th></th>\n",
       "      <th>0</th>\n",
       "      <th>1</th>\n",
       "      <th>2</th>\n",
       "      <th>3</th>\n",
       "      <th>4</th>\n",
       "      <th>5</th>\n",
       "      <th>6</th>\n",
       "      <th>7</th>\n",
       "      <th>8</th>\n",
       "      <th>9</th>\n",
       "      <th>...</th>\n",
       "      <th>32</th>\n",
       "      <th>33</th>\n",
       "      <th>34</th>\n",
       "      <th>35</th>\n",
       "      <th>36</th>\n",
       "      <th>37</th>\n",
       "      <th>38</th>\n",
       "      <th>39</th>\n",
       "      <th>dist</th>\n",
       "      <th>iter</th>\n",
       "    </tr>\n",
       "  </thead>\n",
       "  <tbody>\n",
       "    <tr>\n",
       "      <th>1071</th>\n",
       "      <td>32.0</td>\n",
       "      <td>22.0</td>\n",
       "      <td>5.0</td>\n",
       "      <td>15.0</td>\n",
       "      <td>13.0</td>\n",
       "      <td>16.0</td>\n",
       "      <td>18.0</td>\n",
       "      <td>9.0</td>\n",
       "      <td>25.0</td>\n",
       "      <td>36.0</td>\n",
       "      <td>...</td>\n",
       "      <td>4.0</td>\n",
       "      <td>7.0</td>\n",
       "      <td>31.0</td>\n",
       "      <td>6.0</td>\n",
       "      <td>37.0</td>\n",
       "      <td>27.0</td>\n",
       "      <td>20.0</td>\n",
       "      <td>21.0</td>\n",
       "      <td>1466.732923</td>\n",
       "      <td>6</td>\n",
       "    </tr>\n",
       "  </tbody>\n",
       "</table>\n",
       "<p>1 rows × 42 columns</p>\n",
       "</div>"
      ],
      "text/plain": [
       "         0     1    2     3     4     5     6    7     8     9  ...    32  \\\n",
       "1071  32.0  22.0  5.0  15.0  13.0  16.0  18.0  9.0  25.0  36.0  ...   4.0   \n",
       "\n",
       "       33    34   35    36    37    38    39         dist  iter  \n",
       "1071  7.0  31.0  6.0  37.0  27.0  20.0  21.0  1466.732923     6  \n",
       "\n",
       "[1 rows x 42 columns]"
      ]
     },
     "execution_count": 2450,
     "metadata": {},
     "output_type": "execute_result"
    }
   ],
   "source": [
    "final.sort_values('dist').head(1) #best array"
   ]
  },
  {
   "cell_type": "code",
   "execution_count": 2451,
   "metadata": {},
   "outputs": [
    {
     "data": {
      "text/plain": [
       "30"
      ]
     },
     "execution_count": 2451,
     "metadata": {},
     "output_type": "execute_result"
    }
   ],
   "source": [
    "max(final['iter']) #"
   ]
  },
  {
   "cell_type": "code",
   "execution_count": null,
   "metadata": {},
   "outputs": [],
   "source": []
  }
 ],
 "metadata": {
  "kernelspec": {
   "display_name": "Python 3",
   "language": "python",
   "name": "python3"
  },
  "language_info": {
   "codemirror_mode": {
    "name": "ipython",
    "version": 3
   },
   "file_extension": ".py",
   "mimetype": "text/x-python",
   "name": "python",
   "nbconvert_exporter": "python",
   "pygments_lexer": "ipython3",
   "version": "3.6.4"
  }
 },
 "nbformat": 4,
 "nbformat_minor": 2
}
